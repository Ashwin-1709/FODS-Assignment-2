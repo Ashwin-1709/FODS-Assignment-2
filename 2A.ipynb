{
 "cells": [
  {
   "cell_type": "code",
   "execution_count": 139,
   "metadata": {},
   "outputs": [],
   "source": [
    "import utils\n",
    "import pandas as pd\n",
    "import numpy as np"
   ]
  },
  {
   "cell_type": "code",
   "execution_count": 140,
   "metadata": {},
   "outputs": [],
   "source": [
    "df = utils.read('FODS-A2.csv')"
   ]
  },
  {
   "cell_type": "code",
   "execution_count": 141,
   "metadata": {},
   "outputs": [
    {
     "name": "stdout",
     "output_type": "stream",
     "text": [
      "26\n"
     ]
    }
   ],
   "source": [
    "features = list(df.columns)\n",
    "features.pop(-1)\n",
    "print(len(features))"
   ]
  },
  {
   "cell_type": "code",
   "execution_count": 142,
   "metadata": {},
   "outputs": [],
   "source": [
    "cur_rms = np.Inf\n",
    "startdf = pd.DataFrame(df['Appliances'])\n",
    "taken = [0 for i in range(26)]"
   ]
  },
  {
   "cell_type": "code",
   "execution_count": 143,
   "metadata": {},
   "outputs": [],
   "source": [
    "def forward(cur_data , cur_rms) : \n",
    "    if sum(taken) == 26 :\n",
    "        return cur_data , cur_rms\n",
    "    id = -1\n",
    "    for i in range(len(df.columns) - 1) : \n",
    "        if taken[i] == 0 : \n",
    "            new_df = cur_data.copy()\n",
    "            new_df.insert(0 , features[i] , pd.DataFrame(df[features[i]]))\n",
    "            rms = utils.regression(new_df , 5000 , 0.00001)\n",
    "            if(cur_rms > rms[0]) : \n",
    "                cur_rms = rms[0]\n",
    "                id = i\n",
    "    if id == -1 : \n",
    "        return cur_data , cur_rms\n",
    "    taken[id] = 1\n",
    "    cur_data.insert(0 , features[id] , pd.DataFrame(df[features[id]]))\n",
    "    forward(cur_data , cur_rms)"
   ]
  },
  {
   "cell_type": "code",
   "execution_count": 144,
   "metadata": {},
   "outputs": [],
   "source": [
    "forward(startdf , cur_rms)"
   ]
  },
  {
   "cell_type": "code",
   "execution_count": 145,
   "metadata": {},
   "outputs": [
    {
     "name": "stdout",
     "output_type": "stream",
     "text": [
      "(93.64999685757853, 98.15191583733662)\n"
     ]
    }
   ],
   "source": [
    "final_rms = utils.regression(startdf , 10000 , 0.00001)\n",
    "print(final_rms)"
   ]
  },
  {
   "cell_type": "code",
   "execution_count": 146,
   "metadata": {},
   "outputs": [
    {
     "name": "stdout",
     "output_type": "stream",
     "text": [
      "21\n",
      "['rv2', 'Press_mm_hg', 'rv1', 'RH_7', 'Visibility', 'T4', 'RH_9', 'T_out', 'T6', 'RH_3', 'RH_5', 'RH_4', 'T2', 'RH_2', 'Windspeed', 'T8', 'T3', 'T7', 'RH_8', 'RH_1', 'RH_out']\n"
     ]
    }
   ],
   "source": [
    "final_features = list(startdf.columns)\n",
    "final_features.pop(-1)\n",
    "print(len(final_features))\n",
    "print(final_features)"
   ]
  }
 ],
 "metadata": {
  "kernelspec": {
   "display_name": "Python 3.8.10 64-bit",
   "language": "python",
   "name": "python3"
  },
  "language_info": {
   "codemirror_mode": {
    "name": "ipython",
    "version": 3
   },
   "file_extension": ".py",
   "mimetype": "text/x-python",
   "name": "python",
   "nbconvert_exporter": "python",
   "pygments_lexer": "ipython3",
   "version": "3.8.10"
  },
  "orig_nbformat": 4,
  "vscode": {
   "interpreter": {
    "hash": "e7370f93d1d0cde622a1f8e1c04877d8463912d04d973331ad4851f04de6915a"
   }
  }
 },
 "nbformat": 4,
 "nbformat_minor": 2
}
