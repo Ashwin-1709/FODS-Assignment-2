{
 "cells": [
  {
   "attachments": {},
   "cell_type": "markdown",
   "metadata": {},
   "source": [
    "### Importing the necessary libraries and the util module"
   ]
  },
  {
   "cell_type": "code",
   "execution_count": 116,
   "metadata": {},
   "outputs": [],
   "source": [
    "import utils\n",
    "import pandas as pd\n",
    "import numpy as np"
   ]
  },
  {
   "attachments": {},
   "cell_type": "markdown",
   "metadata": {},
   "source": [
    "### Reading the dataset"
   ]
  },
  {
   "cell_type": "code",
   "execution_count": 117,
   "metadata": {},
   "outputs": [],
   "source": [
    "df = utils.read('FODS-A2.csv')"
   ]
  },
  {
   "cell_type": "code",
   "execution_count": 118,
   "metadata": {},
   "outputs": [
    {
     "name": "stdout",
     "output_type": "stream",
     "text": [
      "26\n"
     ]
    }
   ],
   "source": [
    "features = list(df.columns)\n",
    "features.pop(-1)\n",
    "print(len(features))"
   ]
  },
  {
   "cell_type": "code",
   "execution_count": 119,
   "metadata": {},
   "outputs": [],
   "source": [
    "cur_rms = np.Inf\n",
    "startdf = pd.DataFrame(df['Appliances'])\n",
    "taken = [0 for i in range(26)]"
   ]
  },
  {
   "cell_type": "code",
   "execution_count": 120,
   "metadata": {},
   "outputs": [],
   "source": [
    "rms_test , rms_train = list() , list()\n",
    "feature_num = list()"
   ]
  },
  {
   "attachments": {},
   "cell_type": "markdown",
   "metadata": {},
   "source": [
    "### Forward Feature Selection"
   ]
  },
  {
   "cell_type": "code",
   "execution_count": 121,
   "metadata": {},
   "outputs": [],
   "source": [
    "def forward(cur_data , cur_rms) : \n",
    "    if sum(taken) == 26 :\n",
    "        return cur_data , cur_rms\n",
    "    id = -1\n",
    "    cur_tr , cur_ts = 0 , 0\n",
    "    for i in range(len(df.columns) - 1) : \n",
    "        if taken[i] == 0 : \n",
    "            new_df = cur_data.copy()\n",
    "            new_df.insert(0 , features[i] , pd.DataFrame(df[features[i]]))\n",
    "            rms = utils.regression(new_df , 4000 , 0.00002)\n",
    "            if(cur_rms > rms[0]) : \n",
    "                cur_rms = rms[0]\n",
    "                cur_ts = cur_rms\n",
    "                cur_tr = rms[1]\n",
    "                id = i\n",
    "    if id == -1 : \n",
    "        return cur_data , cur_rms\n",
    "    taken[id] = 1\n",
    "    rms_test.append(cur_ts)\n",
    "    rms_train.append(cur_tr)\n",
    "    cur_data.insert(0 , features[id] , pd.DataFrame(df[features[id]]))\n",
    "    feature_num.append(len(cur_data.columns))\n",
    "    forward(cur_data , cur_rms)"
   ]
  },
  {
   "cell_type": "code",
   "execution_count": 122,
   "metadata": {},
   "outputs": [],
   "source": [
    "forward(startdf , cur_rms)"
   ]
  },
  {
   "cell_type": "code",
   "execution_count": 123,
   "metadata": {},
   "outputs": [
    {
     "data": {
      "text/html": [
       "<div>\n",
       "<style scoped>\n",
       "    .dataframe tbody tr th:only-of-type {\n",
       "        vertical-align: middle;\n",
       "    }\n",
       "\n",
       "    .dataframe tbody tr th {\n",
       "        vertical-align: top;\n",
       "    }\n",
       "\n",
       "    .dataframe thead th {\n",
       "        text-align: right;\n",
       "    }\n",
       "</style>\n",
       "<table border=\"1\" class=\"dataframe\">\n",
       "  <thead>\n",
       "    <tr style=\"text-align: right;\">\n",
       "      <th></th>\n",
       "      <th>No of Features selected</th>\n",
       "      <th>Train RMS</th>\n",
       "      <th>Test RMS</th>\n",
       "    </tr>\n",
       "  </thead>\n",
       "  <tbody>\n",
       "    <tr>\n",
       "      <th>0</th>\n",
       "      <td>1</td>\n",
       "      <td>104.017192</td>\n",
       "      <td>98.940186</td>\n",
       "    </tr>\n",
       "    <tr>\n",
       "      <th>1</th>\n",
       "      <td>2</td>\n",
       "      <td>103.155676</td>\n",
       "      <td>98.208805</td>\n",
       "    </tr>\n",
       "    <tr>\n",
       "      <th>2</th>\n",
       "      <td>3</td>\n",
       "      <td>101.951968</td>\n",
       "      <td>96.583217</td>\n",
       "    </tr>\n",
       "    <tr>\n",
       "      <th>3</th>\n",
       "      <td>4</td>\n",
       "      <td>101.449221</td>\n",
       "      <td>96.032960</td>\n",
       "    </tr>\n",
       "    <tr>\n",
       "      <th>4</th>\n",
       "      <td>5</td>\n",
       "      <td>100.506894</td>\n",
       "      <td>95.358191</td>\n",
       "    </tr>\n",
       "    <tr>\n",
       "      <th>5</th>\n",
       "      <td>6</td>\n",
       "      <td>100.430860</td>\n",
       "      <td>95.138365</td>\n",
       "    </tr>\n",
       "    <tr>\n",
       "      <th>6</th>\n",
       "      <td>7</td>\n",
       "      <td>100.383972</td>\n",
       "      <td>94.971267</td>\n",
       "    </tr>\n",
       "    <tr>\n",
       "      <th>7</th>\n",
       "      <td>8</td>\n",
       "      <td>99.563636</td>\n",
       "      <td>94.777191</td>\n",
       "    </tr>\n",
       "    <tr>\n",
       "      <th>8</th>\n",
       "      <td>9</td>\n",
       "      <td>98.637114</td>\n",
       "      <td>94.475166</td>\n",
       "    </tr>\n",
       "    <tr>\n",
       "      <th>9</th>\n",
       "      <td>10</td>\n",
       "      <td>98.500797</td>\n",
       "      <td>94.232364</td>\n",
       "    </tr>\n",
       "    <tr>\n",
       "      <th>10</th>\n",
       "      <td>11</td>\n",
       "      <td>98.474310</td>\n",
       "      <td>94.069831</td>\n",
       "    </tr>\n",
       "    <tr>\n",
       "      <th>11</th>\n",
       "      <td>12</td>\n",
       "      <td>98.348009</td>\n",
       "      <td>94.018305</td>\n",
       "    </tr>\n",
       "    <tr>\n",
       "      <th>12</th>\n",
       "      <td>13</td>\n",
       "      <td>98.316741</td>\n",
       "      <td>93.905003</td>\n",
       "    </tr>\n",
       "    <tr>\n",
       "      <th>13</th>\n",
       "      <td>14</td>\n",
       "      <td>98.233238</td>\n",
       "      <td>93.746944</td>\n",
       "    </tr>\n",
       "    <tr>\n",
       "      <th>14</th>\n",
       "      <td>15</td>\n",
       "      <td>98.221206</td>\n",
       "      <td>93.673349</td>\n",
       "    </tr>\n",
       "    <tr>\n",
       "      <th>15</th>\n",
       "      <td>16</td>\n",
       "      <td>98.207957</td>\n",
       "      <td>93.659722</td>\n",
       "    </tr>\n",
       "    <tr>\n",
       "      <th>16</th>\n",
       "      <td>17</td>\n",
       "      <td>98.179795</td>\n",
       "      <td>93.654049</td>\n",
       "    </tr>\n",
       "    <tr>\n",
       "      <th>17</th>\n",
       "      <td>18</td>\n",
       "      <td>98.165827</td>\n",
       "      <td>93.650864</td>\n",
       "    </tr>\n",
       "    <tr>\n",
       "      <th>18</th>\n",
       "      <td>19</td>\n",
       "      <td>98.161909</td>\n",
       "      <td>93.650194</td>\n",
       "    </tr>\n",
       "    <tr>\n",
       "      <th>19</th>\n",
       "      <td>20</td>\n",
       "      <td>98.151916</td>\n",
       "      <td>93.650007</td>\n",
       "    </tr>\n",
       "    <tr>\n",
       "      <th>20</th>\n",
       "      <td>21</td>\n",
       "      <td>98.151916</td>\n",
       "      <td>93.650007</td>\n",
       "    </tr>\n",
       "  </tbody>\n",
       "</table>\n",
       "</div>"
      ],
      "text/plain": [
       "    No of Features selected   Train RMS   Test RMS\n",
       "0                         1  104.017192  98.940186\n",
       "1                         2  103.155676  98.208805\n",
       "2                         3  101.951968  96.583217\n",
       "3                         4  101.449221  96.032960\n",
       "4                         5  100.506894  95.358191\n",
       "5                         6  100.430860  95.138365\n",
       "6                         7  100.383972  94.971267\n",
       "7                         8   99.563636  94.777191\n",
       "8                         9   98.637114  94.475166\n",
       "9                        10   98.500797  94.232364\n",
       "10                       11   98.474310  94.069831\n",
       "11                       12   98.348009  94.018305\n",
       "12                       13   98.316741  93.905003\n",
       "13                       14   98.233238  93.746944\n",
       "14                       15   98.221206  93.673349\n",
       "15                       16   98.207957  93.659722\n",
       "16                       17   98.179795  93.654049\n",
       "17                       18   98.165827  93.650864\n",
       "18                       19   98.161909  93.650194\n",
       "19                       20   98.151916  93.650007\n",
       "20                       21   98.151916  93.650007"
      ]
     },
     "execution_count": 123,
     "metadata": {},
     "output_type": "execute_result"
    }
   ],
   "source": [
    "row = list()\n",
    "for i in range(len(rms_train)) :\n",
    "    train , test = rms_train[i] , rms_test[i]\n",
    "    features_selected = feature_num[i]\n",
    "    record = [features_selected - 1 , train , test]\n",
    "    row.append(record)\n",
    "table = pd.DataFrame(row , columns=['No of Features selected' , 'Train RMS' , 'Test RMS'])\n",
    "table"
   ]
  },
  {
   "attachments": {},
   "cell_type": "markdown",
   "metadata": {},
   "source": [
    "### Final Model Obtained"
   ]
  },
  {
   "cell_type": "code",
   "execution_count": 124,
   "metadata": {},
   "outputs": [
    {
     "name": "stdout",
     "output_type": "stream",
     "text": [
      "93.64999685757853\n"
     ]
    }
   ],
   "source": [
    "final_rms = utils.regression(startdf , 10000 , 0.00001)\n",
    "print(final_rms[0])"
   ]
  },
  {
   "attachments": {},
   "cell_type": "markdown",
   "metadata": {},
   "source": [
    "### Feature List"
   ]
  },
  {
   "cell_type": "code",
   "execution_count": 125,
   "metadata": {},
   "outputs": [
    {
     "name": "stdout",
     "output_type": "stream",
     "text": [
      "21\n",
      "['rv2', 'Press_mm_hg', 'rv1', 'RH_7', 'Visibility', 'T4', 'RH_9', 'T_out', 'T6', 'RH_3', 'RH_5', 'RH_4', 'T2', 'RH_2', 'Windspeed', 'T8', 'T3', 'T7', 'RH_8', 'RH_1', 'RH_out']\n"
     ]
    }
   ],
   "source": [
    "final_features = list(startdf.columns)\n",
    "final_features.pop(-1)\n",
    "print(len(final_features))\n",
    "print(final_features)"
   ]
  }
 ],
 "metadata": {
  "kernelspec": {
   "display_name": "Python 3.8.10 64-bit",
   "language": "python",
   "name": "python3"
  },
  "language_info": {
   "codemirror_mode": {
    "name": "ipython",
    "version": 3
   },
   "file_extension": ".py",
   "mimetype": "text/x-python",
   "name": "python",
   "nbconvert_exporter": "python",
   "pygments_lexer": "ipython3",
   "version": "3.8.10"
  },
  "orig_nbformat": 4,
  "vscode": {
   "interpreter": {
    "hash": "e7370f93d1d0cde622a1f8e1c04877d8463912d04d973331ad4851f04de6915a"
   }
  }
 },
 "nbformat": 4,
 "nbformat_minor": 2
}
