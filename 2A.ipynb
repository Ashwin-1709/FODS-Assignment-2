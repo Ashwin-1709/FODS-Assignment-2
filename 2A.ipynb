{
 "cells": [
  {
   "attachments": {},
   "cell_type": "markdown",
   "metadata": {},
   "source": [
    "### Importing the necessary libraries and the util module"
   ]
  },
  {
   "cell_type": "code",
   "execution_count": 1,
   "metadata": {},
   "outputs": [],
   "source": [
    "import utils\n",
    "import pandas as pd\n",
    "import numpy as np"
   ]
  },
  {
   "attachments": {},
   "cell_type": "markdown",
   "metadata": {},
   "source": [
    "### Reading the dataset"
   ]
  },
  {
   "cell_type": "code",
   "execution_count": 2,
   "metadata": {},
   "outputs": [],
   "source": [
    "df = utils.read('FODS-A2.csv')"
   ]
  },
  {
   "cell_type": "code",
   "execution_count": 3,
   "metadata": {},
   "outputs": [
    {
     "name": "stdout",
     "output_type": "stream",
     "text": [
      "26\n"
     ]
    }
   ],
   "source": [
    "features = list(df.columns)\n",
    "features.pop(-1)\n",
    "print(len(features))"
   ]
  },
  {
   "cell_type": "code",
   "execution_count": 4,
   "metadata": {},
   "outputs": [],
   "source": [
    "cur_rms = np.Inf\n",
    "startdf = pd.DataFrame(df['Appliances'])\n",
    "taken = [0 for i in range(26)]"
   ]
  },
  {
   "attachments": {},
   "cell_type": "markdown",
   "metadata": {},
   "source": [
    "### Forward Feature Selection"
   ]
  },
  {
   "cell_type": "code",
   "execution_count": 5,
   "metadata": {},
   "outputs": [],
   "source": [
    "def forward(cur_data , cur_rms) : \n",
    "    if sum(taken) == 26 :\n",
    "        return cur_data , cur_rms\n",
    "    id = -1\n",
    "    for i in range(len(df.columns) - 1) : \n",
    "        if taken[i] == 0 : \n",
    "            new_df = cur_data.copy()\n",
    "            new_df.insert(0 , features[i] , pd.DataFrame(df[features[i]]))\n",
    "            rms = utils.regression(new_df , 5000 , 0.00001)\n",
    "            if(cur_rms > rms[0]) : \n",
    "                cur_rms = rms[0]\n",
    "                id = i\n",
    "    if id == -1 : \n",
    "        return cur_data , cur_rms\n",
    "    taken[id] = 1\n",
    "    cur_data.insert(0 , features[id] , pd.DataFrame(df[features[id]]))\n",
    "    forward(cur_data , cur_rms)"
   ]
  },
  {
   "cell_type": "code",
   "execution_count": 6,
   "metadata": {},
   "outputs": [],
   "source": [
    "forward(startdf , cur_rms)"
   ]
  },
  {
   "attachments": {},
   "cell_type": "markdown",
   "metadata": {},
   "source": [
    "### Final Model Obtained"
   ]
  },
  {
   "cell_type": "code",
   "execution_count": 7,
   "metadata": {},
   "outputs": [
    {
     "name": "stdout",
     "output_type": "stream",
     "text": [
      "93.64999685757853\n"
     ]
    }
   ],
   "source": [
    "final_rms = utils.regression(startdf , 10000 , 0.00001)\n",
    "print(final_rms[0])"
   ]
  },
  {
   "attachments": {},
   "cell_type": "markdown",
   "metadata": {},
   "source": [
    "### Feature List"
   ]
  },
  {
   "cell_type": "code",
   "execution_count": 8,
   "metadata": {},
   "outputs": [
    {
     "name": "stdout",
     "output_type": "stream",
     "text": [
      "21\n",
      "['rv2', 'Press_mm_hg', 'rv1', 'RH_7', 'Visibility', 'T4', 'RH_9', 'T_out', 'T6', 'RH_3', 'RH_5', 'RH_4', 'T2', 'RH_2', 'Windspeed', 'T8', 'T3', 'T7', 'RH_8', 'RH_1', 'RH_out']\n"
     ]
    }
   ],
   "source": [
    "final_features = list(startdf.columns)\n",
    "final_features.pop(-1)\n",
    "print(len(final_features))\n",
    "print(final_features)"
   ]
  }
 ],
 "metadata": {
  "kernelspec": {
   "display_name": "Python 3.8.10 64-bit",
   "language": "python",
   "name": "python3"
  },
  "language_info": {
   "codemirror_mode": {
    "name": "ipython",
    "version": 3
   },
   "file_extension": ".py",
   "mimetype": "text/x-python",
   "name": "python",
   "nbconvert_exporter": "python",
   "pygments_lexer": "ipython3",
   "version": "3.8.10"
  },
  "orig_nbformat": 4,
  "vscode": {
   "interpreter": {
    "hash": "e7370f93d1d0cde622a1f8e1c04877d8463912d04d973331ad4851f04de6915a"
   }
  }
 },
 "nbformat": 4,
 "nbformat_minor": 2
}
