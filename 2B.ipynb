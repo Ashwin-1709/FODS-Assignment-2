{
 "cells": [
  {
   "cell_type": "code",
   "execution_count": null,
   "metadata": {},
   "outputs": [],
   "source": [
    "# all imports"
   ]
  },
  {
   "cell_type": "code",
   "execution_count": null,
   "metadata": {},
   "outputs": [],
   "source": [
    "# splitting the data\n",
    "# get X_train, X_test, Y_train, Y_test"
   ]
  },
  {
   "cell_type": "code",
   "execution_count": null,
   "metadata": {},
   "outputs": [],
   "source": [
    "def drop_col(feature, features):\n",
    "    pass\n",
    "\n",
    "# get x_train, x_test, y_train, y_test based on features\n",
    "# drop feature from x_train, x_test, y_train, y_test\n",
    "# return [x_train, y_train, x_test, y_test]"
   ]
  },
  {
   "cell_type": "code",
   "execution_count": null,
   "metadata": {},
   "outputs": [],
   "source": [
    "def next_feature_set(features, rms):\n",
    "    min_col = 0\n",
    "\n",
    "    for i in range(len(rms)):\n",
    "        if (rms[i] < rms[min_col]):\n",
    "            min_col=i\n",
    "\n",
    "    features.pop(i)\n",
    "    return features"
   ]
  },
  {
   "cell_type": "code",
   "execution_count": null,
   "metadata": {},
   "outputs": [],
   "source": [
    "def backward_elimination(features):\n",
    "\n",
    "    # features has all the column names being considered for prediction\n",
    "\n",
    "    n = len(features)\n",
    "\n",
    "    if (n==1):\n",
    "        return features\n",
    "\n",
    "    rms_curr = -1   # replace this with calls to building + prediction functions\n",
    "    rms_next = []\n",
    "\n",
    "    for f in features:\n",
    "        [x_train, y_train, x_test, y_test] = drop_col(f,features)\n",
    "        # calculate rms for the current train + test set and append to rms_next\n",
    "    \n",
    "    if min(list) > rms_curr:\n",
    "        return features\n",
    "\n",
    "    next_feature_set(features, rms_next)\n",
    "    return backward_elimination(features)\n",
    "    \n",
    "\n",
    "\n"
   ]
  }
 ],
 "metadata": {
  "language_info": {
   "name": "python"
  },
  "orig_nbformat": 4
 },
 "nbformat": 4,
 "nbformat_minor": 2
}
