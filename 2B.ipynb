{
 "cells": [
  {
   "cell_type": "code",
   "execution_count": 15,
   "metadata": {},
   "outputs": [],
   "source": [
    "import utils\n",
    "import pandas as pd\n",
    "data = utils.read('FODS-A2.csv')"
   ]
  },
  {
   "attachments": {},
   "cell_type": "markdown",
   "metadata": {},
   "source": [
    "### Function to select the next feature set"
   ]
  },
  {
   "cell_type": "code",
   "execution_count": 16,
   "metadata": {},
   "outputs": [],
   "source": [
    "def next_feature_set(features, rms):\n",
    "    min_col = 0\n",
    "\n",
    "    for i in range(len(rms)):\n",
    "        if (rms[i] < rms[min_col]):\n",
    "            min_col=i\n",
    "\n",
    "    features.pop(min_col)\n",
    "    return features"
   ]
  },
  {
   "cell_type": "code",
   "execution_count": 17,
   "metadata": {},
   "outputs": [],
   "source": [
    "rms_test , rms_train = list() , list()\n",
    "feature_num = list()"
   ]
  },
  {
   "attachments": {},
   "cell_type": "markdown",
   "metadata": {},
   "source": [
    "### Backward Feature Selection"
   ]
  },
  {
   "cell_type": "code",
   "execution_count": 18,
   "metadata": {},
   "outputs": [],
   "source": [
    "def backward_elimination(features):\n",
    "\n",
    "    # features has all the column names being considered for prediction\n",
    "\n",
    "    n = len(features)\n",
    "\n",
    "    if (n==2):\n",
    "        return features\n",
    "\n",
    "    rms = utils.regression(data[features].copy(),5000,0.00001)\n",
    "    rms_curr = rms[0]       \n",
    "    rms_next = []\n",
    "\n",
    "    rms_test.append(rms[0])\n",
    "    rms_train.append(rms[1])\n",
    "    feature_num.append(len(features))\n",
    "\n",
    "    for f in features:\n",
    "        df = data[features].copy()\n",
    "\n",
    "        if (f==df.columns[-1]):\n",
    "            continue\n",
    "        \n",
    "        df = df.drop(f,axis=1)\n",
    "        rms_next.append(utils.regression(df,5000,0.00001)[0])\n",
    "    \n",
    "    if min(rms_next) > rms_curr:\n",
    "        return features\n",
    "\n",
    "    next_feature_set(features, rms_next)\n",
    "    return backward_elimination(features)\n",
    "    "
   ]
  },
  {
   "cell_type": "code",
   "execution_count": 19,
   "metadata": {},
   "outputs": [
    {
     "data": {
      "text/plain": [
       "['RH_1',\n",
       " 'T2',\n",
       " 'RH_2',\n",
       " 'T3',\n",
       " 'RH_3',\n",
       " 'T4',\n",
       " 'RH_4',\n",
       " 'RH_5',\n",
       " 'T6',\n",
       " 'RH_7',\n",
       " 'T8',\n",
       " 'RH_8',\n",
       " 'T9',\n",
       " 'RH_9',\n",
       " 'T_out',\n",
       " 'Press_mm_hg',\n",
       " 'Windspeed',\n",
       " 'Visibility',\n",
       " 'Tdewpoint',\n",
       " 'rv2',\n",
       " 'Appliances']"
      ]
     },
     "execution_count": 19,
     "metadata": {},
     "output_type": "execute_result"
    }
   ],
   "source": [
    "features = list(data.columns)\n",
    "backward_elimination(features)\n"
   ]
  },
  {
   "attachments": {},
   "cell_type": "markdown",
   "metadata": {},
   "source": [
    "### Tabulation "
   ]
  },
  {
   "cell_type": "code",
   "execution_count": 20,
   "metadata": {},
   "outputs": [
    {
     "data": {
      "text/html": [
       "<div>\n",
       "<style scoped>\n",
       "    .dataframe tbody tr th:only-of-type {\n",
       "        vertical-align: middle;\n",
       "    }\n",
       "\n",
       "    .dataframe tbody tr th {\n",
       "        vertical-align: top;\n",
       "    }\n",
       "\n",
       "    .dataframe thead th {\n",
       "        text-align: right;\n",
       "    }\n",
       "</style>\n",
       "<table border=\"1\" class=\"dataframe\">\n",
       "  <thead>\n",
       "    <tr style=\"text-align: right;\">\n",
       "      <th></th>\n",
       "      <th>No of Features selected</th>\n",
       "      <th>Train RMS</th>\n",
       "      <th>Test RMS</th>\n",
       "    </tr>\n",
       "  </thead>\n",
       "  <tbody>\n",
       "    <tr>\n",
       "      <th>0</th>\n",
       "      <td>26</td>\n",
       "      <td>97.389094</td>\n",
       "      <td>93.935186</td>\n",
       "    </tr>\n",
       "    <tr>\n",
       "      <th>1</th>\n",
       "      <td>25</td>\n",
       "      <td>97.479512</td>\n",
       "      <td>93.790546</td>\n",
       "    </tr>\n",
       "    <tr>\n",
       "      <th>2</th>\n",
       "      <td>24</td>\n",
       "      <td>97.507268</td>\n",
       "      <td>93.699630</td>\n",
       "    </tr>\n",
       "    <tr>\n",
       "      <th>3</th>\n",
       "      <td>23</td>\n",
       "      <td>97.509033</td>\n",
       "      <td>93.660533</td>\n",
       "    </tr>\n",
       "    <tr>\n",
       "      <th>4</th>\n",
       "      <td>22</td>\n",
       "      <td>97.513845</td>\n",
       "      <td>93.625865</td>\n",
       "    </tr>\n",
       "    <tr>\n",
       "      <th>5</th>\n",
       "      <td>21</td>\n",
       "      <td>97.518902</td>\n",
       "      <td>93.614898</td>\n",
       "    </tr>\n",
       "    <tr>\n",
       "      <th>6</th>\n",
       "      <td>20</td>\n",
       "      <td>97.518902</td>\n",
       "      <td>93.614898</td>\n",
       "    </tr>\n",
       "  </tbody>\n",
       "</table>\n",
       "</div>"
      ],
      "text/plain": [
       "   No of Features selected  Train RMS   Test RMS\n",
       "0                       26  97.389094  93.935186\n",
       "1                       25  97.479512  93.790546\n",
       "2                       24  97.507268  93.699630\n",
       "3                       23  97.509033  93.660533\n",
       "4                       22  97.513845  93.625865\n",
       "5                       21  97.518902  93.614898\n",
       "6                       20  97.518902  93.614898"
      ]
     },
     "execution_count": 20,
     "metadata": {},
     "output_type": "execute_result"
    }
   ],
   "source": [
    "row = list()\n",
    "for i in range(len(rms_train)) :\n",
    "    train , test = rms_train[i] , rms_test[i]\n",
    "    features_selected = feature_num[i]\n",
    "    record = [features_selected - 1 , train , test]\n",
    "    row.append(record)\n",
    "table = pd.DataFrame(row , columns=['No of Features selected' , 'Train RMS' , 'Test RMS'])\n",
    "table"
   ]
  },
  {
   "attachments": {},
   "cell_type": "markdown",
   "metadata": {},
   "source": [
    "### Final Model Obtained"
   ]
  },
  {
   "cell_type": "code",
   "execution_count": 21,
   "metadata": {},
   "outputs": [
    {
     "name": "stdout",
     "output_type": "stream",
     "text": [
      "93.91829821626636\n"
     ]
    }
   ],
   "source": [
    "final_model = utils.regression(data , 10000 , 0.00001)\n",
    "print(final_model[0])"
   ]
  },
  {
   "attachments": {},
   "cell_type": "markdown",
   "metadata": {},
   "source": [
    "### Final Feature list"
   ]
  },
  {
   "cell_type": "code",
   "execution_count": 22,
   "metadata": {},
   "outputs": [
    {
     "name": "stdout",
     "output_type": "stream",
     "text": [
      "20\n",
      "['RH_1', 'T2', 'RH_2', 'T3', 'RH_3', 'T4', 'RH_4', 'RH_5', 'T6', 'RH_7', 'T8', 'RH_8', 'T9', 'RH_9', 'T_out', 'Press_mm_hg', 'Windspeed', 'Visibility', 'Tdewpoint', 'rv2']\n"
     ]
    }
   ],
   "source": [
    "features.pop(-1)\n",
    "print(len(features))\n",
    "print(features)"
   ]
  }
 ],
 "metadata": {
  "kernelspec": {
   "display_name": "Python 3",
   "language": "python",
   "name": "python3"
  },
  "language_info": {
   "codemirror_mode": {
    "name": "ipython",
    "version": 3
   },
   "file_extension": ".py",
   "mimetype": "text/x-python",
   "name": "python",
   "nbconvert_exporter": "python",
   "pygments_lexer": "ipython3",
   "version": "3.8.10"
  },
  "orig_nbformat": 4,
  "vscode": {
   "interpreter": {
    "hash": "e7370f93d1d0cde622a1f8e1c04877d8463912d04d973331ad4851f04de6915a"
   }
  }
 },
 "nbformat": 4,
 "nbformat_minor": 2
}
