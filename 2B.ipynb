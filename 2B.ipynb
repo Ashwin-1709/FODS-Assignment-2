{
 "cells": [
  {
   "cell_type": "code",
   "execution_count": 1,
   "metadata": {},
   "outputs": [],
   "source": [
    "import utils\n",
    "data = utils.read('FODS-A2.csv')"
   ]
  },
  {
   "attachments": {},
   "cell_type": "markdown",
   "metadata": {},
   "source": [
    "### Function to select the next feature set"
   ]
  },
  {
   "cell_type": "code",
   "execution_count": 2,
   "metadata": {},
   "outputs": [],
   "source": [
    "def next_feature_set(features, rms):\n",
    "    min_col = 0\n",
    "\n",
    "    for i in range(len(rms)):\n",
    "        if (rms[i] < rms[min_col]):\n",
    "            min_col=i\n",
    "\n",
    "    features.pop(min_col)\n",
    "    return features"
   ]
  },
  {
   "attachments": {},
   "cell_type": "markdown",
   "metadata": {},
   "source": [
    "### Backward Feature Selection"
   ]
  },
  {
   "cell_type": "code",
   "execution_count": 3,
   "metadata": {},
   "outputs": [],
   "source": [
    "def backward_elimination(features):\n",
    "\n",
    "    # features has all the column names being considered for prediction\n",
    "\n",
    "    n = len(features)\n",
    "\n",
    "    if (n==2):\n",
    "        return features\n",
    "\n",
    "    rms_curr = utils.regression(data[features].copy(),2000,0.00001)[0]       \n",
    "    rms_next = []\n",
    "\n",
    "    for f in features:\n",
    "        df = data[features].copy()\n",
    "\n",
    "        if (f==df.columns[-1]):\n",
    "            continue\n",
    "        \n",
    "        df = df.drop(f,axis=1)\n",
    "        rms_next.append(utils.regression(df,2000,0.00001)[0])\n",
    "    \n",
    "    if min(rms_next) > rms_curr:\n",
    "        return features\n",
    "\n",
    "    next_feature_set(features, rms_next)\n",
    "    return backward_elimination(features)\n",
    "    "
   ]
  },
  {
   "cell_type": "code",
   "execution_count": 4,
   "metadata": {},
   "outputs": [
    {
     "data": {
      "text/plain": [
       "['RH_1',\n",
       " 'T2',\n",
       " 'RH_2',\n",
       " 'T3',\n",
       " 'RH_3',\n",
       " 'T4',\n",
       " 'RH_4',\n",
       " 'RH_5',\n",
       " 'T6',\n",
       " 'RH_7',\n",
       " 'T8',\n",
       " 'RH_8',\n",
       " 'T9',\n",
       " 'RH_9',\n",
       " 'T_out',\n",
       " 'Press_mm_hg',\n",
       " 'RH_out',\n",
       " 'Windspeed',\n",
       " 'Visibility',\n",
       " 'rv1',\n",
       " 'rv2',\n",
       " 'Appliances']"
      ]
     },
     "execution_count": 4,
     "metadata": {},
     "output_type": "execute_result"
    }
   ],
   "source": [
    "features = list(data.columns)\n",
    "backward_elimination(features)\n"
   ]
  },
  {
   "attachments": {},
   "cell_type": "markdown",
   "metadata": {},
   "source": [
    "### Final Model Obtained"
   ]
  },
  {
   "cell_type": "code",
   "execution_count": 7,
   "metadata": {},
   "outputs": [
    {
     "name": "stdout",
     "output_type": "stream",
     "text": [
      "93.91829821626636\n"
     ]
    }
   ],
   "source": [
    "final_model = utils.regression(data , 10000 , 0.00001)\n",
    "print(final_model[0])"
   ]
  },
  {
   "attachments": {},
   "cell_type": "markdown",
   "metadata": {},
   "source": [
    "### Final Feature list"
   ]
  },
  {
   "cell_type": "code",
   "execution_count": 6,
   "metadata": {},
   "outputs": [
    {
     "name": "stdout",
     "output_type": "stream",
     "text": [
      "21\n",
      "['RH_1', 'T2', 'RH_2', 'T3', 'RH_3', 'T4', 'RH_4', 'RH_5', 'T6', 'RH_7', 'T8', 'RH_8', 'T9', 'RH_9', 'T_out', 'Press_mm_hg', 'RH_out', 'Windspeed', 'Visibility', 'rv1', 'rv2']\n"
     ]
    }
   ],
   "source": [
    "features.pop(-1)\n",
    "print(len(features))\n",
    "print(features)"
   ]
  }
 ],
 "metadata": {
  "kernelspec": {
   "display_name": "Python 3",
   "language": "python",
   "name": "python3"
  },
  "language_info": {
   "codemirror_mode": {
    "name": "ipython",
    "version": 3
   },
   "file_extension": ".py",
   "mimetype": "text/x-python",
   "name": "python",
   "nbconvert_exporter": "python",
   "pygments_lexer": "ipython3",
   "version": "3.8.10"
  },
  "orig_nbformat": 4,
  "vscode": {
   "interpreter": {
    "hash": "e7370f93d1d0cde622a1f8e1c04877d8463912d04d973331ad4851f04de6915a"
   }
  }
 },
 "nbformat": 4,
 "nbformat_minor": 2
}
