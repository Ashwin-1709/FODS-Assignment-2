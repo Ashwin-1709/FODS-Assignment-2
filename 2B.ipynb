{
 "cells": [
  {
   "cell_type": "code",
   "execution_count": 17,
   "metadata": {},
   "outputs": [],
   "source": [
    "# all imports\n",
    "import utils\n",
    "data = utils.read('FODS-A2.csv')"
   ]
  },
  {
   "cell_type": "code",
   "execution_count": 18,
   "metadata": {},
   "outputs": [],
   "source": [
    "def next_feature_set(features, rms):\n",
    "    min_col = 0\n",
    "\n",
    "    for i in range(len(rms)):\n",
    "        if (rms[i] < rms[min_col]):\n",
    "            min_col=i\n",
    "\n",
    "    features.pop(min_col)\n",
    "    return features"
   ]
  },
  {
   "cell_type": "code",
   "execution_count": 19,
   "metadata": {},
   "outputs": [],
   "source": [
    "def backward_elimination(features):\n",
    "\n",
    "    # features has all the column names being considered for prediction\n",
    "\n",
    "    n = len(features)\n",
    "\n",
    "    if (n==2):\n",
    "        return features\n",
    "\n",
    "    rms_curr = utils.regression(data[features].copy(),2000,0.00001)[0]       \n",
    "    rms_next = []\n",
    "\n",
    "    for f in features:\n",
    "        df = data[features].copy()\n",
    "\n",
    "        if (f==df.columns[-1]):\n",
    "            continue\n",
    "        \n",
    "        df = df.drop(f,axis=1)\n",
    "        rms_next.append(utils.regression(df,2000,0.00001)[0])\n",
    "    \n",
    "    if min(rms_next) > rms_curr:\n",
    "        return features\n",
    "\n",
    "    next_feature_set(features, rms_next)\n",
    "    return backward_elimination(features)\n",
    "    "
   ]
  },
  {
   "cell_type": "code",
   "execution_count": 20,
   "metadata": {},
   "outputs": [
    {
     "name": "stdout",
     "output_type": "stream",
     "text": [
      "['RH_1', 'T2', 'RH_2', 'T3', 'RH_3', 'T4', 'RH_4', 'RH_5', 'T6', 'RH_7', 'T8', 'RH_8', 'T9', 'RH_9', 'T_out', 'Press_mm_hg', 'RH_out', 'Windspeed', 'Visibility', 'rv1', 'rv2']\n"
     ]
    }
   ],
   "source": [
    "features = list(data.columns)\n",
    "backward_elimination(features)\n",
    "features.pop(-1)\n",
    "print(features)"
   ]
  }
 ],
 "metadata": {
  "kernelspec": {
   "display_name": "Python 3.10.4 64-bit",
   "language": "python",
   "name": "python3"
  },
  "language_info": {
   "codemirror_mode": {
    "name": "ipython",
    "version": 3
   },
   "file_extension": ".py",
   "mimetype": "text/x-python",
   "name": "python",
   "nbconvert_exporter": "python",
   "pygments_lexer": "ipython3",
   "version": "3.10.4"
  },
  "orig_nbformat": 4,
  "vscode": {
   "interpreter": {
    "hash": "2469a70536e4d2335a2ea8907942d0699c37342a371ac185bdb5b0aa6f073890"
   }
  }
 },
 "nbformat": 4,
 "nbformat_minor": 2
}
